{
 "cells": [
  {
   "cell_type": "code",
   "execution_count": null,
   "metadata": {},
   "outputs": [],
   "source": [
    "from selenium import webdriver\n",
    "from selenium.webdriver.chrome.service import Service\n",
    "from selenium.webdriver.common.by import By\n",
    "from selenium.webdriver.common.keys import Keys\n",
    "from selenium.common.exceptions import TimeoutException\n",
    "from selenium.webdriver.support.ui import WebDriverWait\n",
    "from selenium.webdriver.support import expected_conditions as EC\n",
    "from selenium.webdriver.chrome.options import Options\n",
    "import time"
   ]
  },
  {
   "cell_type": "code",
   "execution_count": null,
   "metadata": {},
   "outputs": [],
   "source": [
    "def get_agent_list(driver, url, DELAY=10):\n",
    "    driver.get(url)\n",
    "    \n",
    "    try:\n",
    "        WebDriverWait(driver, DELAY).until(EC.presence_of_element_located((By.CLASS_NAME, 'row.mt-3')))\n",
    "    except TimeoutException:\n",
    "        pass\n",
    "    \n",
    "    time.sleep(DELAY)\n",
    "\n",
    "    agent_list = []\n",
    "\n",
    "    for idx, info in enumerate(driver.find_elements(By.CLASS_NAME, \"col-md-6.mt-4\")):\n",
    "        try:\n",
    "            name =    f\"/html/body/div[5]/div[3]/div[2]/div/div/div[2]/div[{idx+1}]/div[1]/div[1]/div[2]/h5/a/span\"\n",
    "            cea =     f\"/html/body/div[5]/div[3]/div[2]/div/div/div[2]/div[{idx+1}]/div[1]/div[1]/div[2]/div[2]/div[1]\"\n",
    "            agency =  f\"/html/body/div[5]/div[3]/div[2]/div/div/div[2]/div[{idx+1}]/div[1]/div[1]/div[2]/div[2]/div[2]/div[1]\"\n",
    "            contact = f\"/html/body/div[5]/div[3]/div[2]/div/div/div[2]/div[{idx+1}]/div[1]/div[2]/a[1]\"\n",
    "\n",
    "            agent_list.append({\n",
    "                \"name\":    info.find_element(By.XPATH, name).text,\n",
    "                \"cea\":     info.find_element(By.XPATH, cea).text.replace(\"CEA: \",\"\"),\n",
    "                \"agency\":  info.find_element(By.XPATH, agency).text,\n",
    "                \"contact\": info.find_element(By.XPATH, contact).get_attribute(\"data-clipboard-text\"),\n",
    "            })\n",
    "        except Exception as e:\n",
    "            print(idx, e)\n",
    "\n",
    "    return agent_list"
   ]
  },
  {
   "cell_type": "code",
   "execution_count": null,
   "metadata": {},
   "outputs": [],
   "source": [
    "chrome_options = Options()\n",
    "# chrome_options.add_argument(\"--headless\")\n",
    "driver = webdriver.Chrome(service=Service(executable_path=\"./chromedriver_mac64/chromedriver\"),\n",
    "                          options=chrome_options)"
   ]
  },
  {
   "cell_type": "code",
   "execution_count": null,
   "metadata": {},
   "outputs": [],
   "source": [
    "all_agents = []\n",
    "\n",
    "for page_no in range(1,258):\n",
    "    URL = f\"https://www.srx.com.sg/find-agents/search?page={page_no}&maxResults=30\"\n",
    "    print(page_no, URL)\n",
    "    agents = get_agent_list(driver, URL)\n",
    "    all_agents.extend(agents)"
   ]
  },
  {
   "cell_type": "code",
   "execution_count": null,
   "metadata": {},
   "outputs": [],
   "source": [
    "import pandas as pd\n",
    "\n",
    "agents_df = pd.DataFrame(all_agents)\n",
    "agents_df"
   ]
  },
  {
   "cell_type": "code",
   "execution_count": null,
   "metadata": {},
   "outputs": [],
   "source": [
    "agents_df.to_csv(\"sg_srx_all_real_estate_agents.csv\", index=False)"
   ]
  },
  {
   "attachments": {},
   "cell_type": "markdown",
   "metadata": {},
   "source": [
    "## PropertyGuru"
   ]
  },
  {
   "cell_type": "code",
   "execution_count": 40,
   "metadata": {},
   "outputs": [],
   "source": [
    "chrome_options = Options()\n",
    "# chrome_options.add_argument(\"--headless\")\n",
    "driver = webdriver.Chrome(service=Service(executable_path=\"./chromedriver_mac64/chromedriver\"),\n",
    "                          options=chrome_options)\n",
    "\n",
    "DELAY = 5"
   ]
  },
  {
   "cell_type": "code",
   "execution_count": null,
   "metadata": {},
   "outputs": [],
   "source": [
    "agent_link_list = []\n",
    "\n",
    "for page_no in range(1, 5):\n",
    "    url = f\"https://www.propertyguru.com.sg/property-agent-directory/search/{page_no}?locale=en&order=asc&property_specialist_type_code=HDB&sort=firstname\"\n",
    "\n",
    "    driver.get(url)\n",
    "\n",
    "    try:\n",
    "        WebDriverWait(driver, DELAY).until(EC.presence_of_element_located((By.CLASS_NAME, 'agent-list')))\n",
    "    except TimeoutException:\n",
    "        pass\n",
    "\n",
    "    time.sleep(DELAY)\n",
    "\n",
    "    for agent_card in driver.find_elements(By.CLASS_NAME, \"agent-card\"):\n",
    "        agent_info = eval(agent_card.get_attribute('data-ec-impression'))['productData']\n",
    "\n",
    "        agent_links = {\"name\": agent_info['name'],\n",
    "                    \"agency\": agent_info['brand'],\n",
    "                    \"link\": agent_card.find_element(By.TAG_NAME, \"a\").get_attribute(\"href\")}\n",
    "\n",
    "        agent_link_list.append(agent_links)"
   ]
  },
  {
   "cell_type": "code",
   "execution_count": null,
   "metadata": {},
   "outputs": [],
   "source": [
    "import pandas as pd\n",
    "pd.DataFrame(agent_link_list)"
   ]
  },
  {
   "cell_type": "code",
   "execution_count": null,
   "metadata": {},
   "outputs": [],
   "source": []
  },
  {
   "cell_type": "code",
   "execution_count": null,
   "metadata": {},
   "outputs": [],
   "source": []
  },
  {
   "cell_type": "markdown",
   "metadata": {},
   "source": []
  }
 ],
 "metadata": {
  "kernelspec": {
   "display_name": "test",
   "language": "python",
   "name": "python3"
  },
  "language_info": {
   "codemirror_mode": {
    "name": "ipython",
    "version": 3
   },
   "file_extension": ".py",
   "mimetype": "text/x-python",
   "name": "python",
   "nbconvert_exporter": "python",
   "pygments_lexer": "ipython3",
   "version": "3.8.16"
  },
  "orig_nbformat": 4,
  "vscode": {
   "interpreter": {
    "hash": "26e7f479ef418cfc9e672dce9c8b93e64ef1d4cfcaa8667e671e404a8f90e90f"
   }
  }
 },
 "nbformat": 4,
 "nbformat_minor": 2
}
